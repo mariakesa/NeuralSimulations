{
 "cells": [
  {
   "cell_type": "code",
   "execution_count": 1,
   "metadata": {},
   "outputs": [],
   "source": [
    "#Useful links\n",
    "#https://gribblelab.org/compneuro2012/2_Modelling_Dynamical_Systems.html\n",
    "#http://systems-sciences.uni-graz.at/etextbook/sw2/phpl_python.html\n",
    "#https://ipython-books.github.io/121-plotting-the-bifurcation-diagram-of-a-chaotic-dynamical-system/"
   ]
  },
  {
   "cell_type": "code",
   "execution_count": 41,
   "metadata": {},
   "outputs": [],
   "source": [
    "import numpy as np\n",
    "from scipy import integrate\n",
    "import matplotlib.pyplot as plt\n",
    "%matplotlib inline\n",
    "\n",
    "def g(inpt):\n",
    "    inpt[inpt<=0.4]=0.2\n",
    "    inpt[np.logical_and(inpt>0.4,inpt<0.8)]=2*inpt-0.6\n",
    "    inpt[inpt>=0.8]=1\n",
    "    '''\n",
    "    if inpt<=0.4:\n",
    "        return 0.2\n",
    "    elif inpt>0.4 and inpt<0.8:\n",
    "        return 2*inpt-0.6\n",
    "    elif inpt>=0.8:\n",
    "        return 1\n",
    "        \n",
    "    '''\n",
    "    return inpt\n",
    "\n",
    "    \n",
    "# define system in terms of a Numpy array\n",
    "def Sys(X, t=0):\n",
    "    # here X[0] = x and x[1] = y    \n",
    "    return np.array([ -X[0,:]+3*X[1,:]*g(X[0,:]), (2.8-X[1.:]-9*X[1,:]*g(X[0,:]))/20])\n",
    "# generate 1000 linearly spaced numbers for x-axes\n",
    "t = np.linspace(0, 20,  1000)\n",
    "# initial values: x0 = 10, y0 = 2\n",
    "Sys0 = np.array([0.5, 2])\n",
    "#X, infodict = integrate.odeint(Sys, Sys0, t, full_output=True)"
   ]
  },
  {
   "cell_type": "code",
   "execution_count": 22,
   "metadata": {},
   "outputs": [
    {
     "name": "stdout",
     "output_type": "stream",
     "text": [
      "(1000, 2)\n"
     ]
    },
    {
     "data": {
      "text/plain": [
       "[<matplotlib.lines.Line2D at 0x7ff5ba00d910>]"
      ]
     },
     "execution_count": 22,
     "metadata": {},
     "output_type": "execute_result"
    },
    {
     "data": {
      "image/png": "[encoded data removed]",
      "text/plain": [
       "<Figure size 432x288 with 1 Axes>"
      ]
     },
     "metadata": {
      "needs_background": "light"
     },
     "output_type": "display_data"
    }
   ],
   "source": [
    "print(X.shape)\n",
    "plt.plot(t,X[:,0])\n",
    "plt.plot(t,X[:,1])"
   ]
  },
  {
   "cell_type": "code",
   "execution_count": 39,
   "metadata": {},
   "outputs": [
    {
     "ename": "TypeError",
     "evalue": "'int' object does not support item assignment",
     "output_type": "error",
     "traceback": [
      "\u001b[0;31m---------------------------------------------------------------------------\u001b[0m",
      "\u001b[0;31mTypeError\u001b[0m                                 Traceback (most recent call last)",
      "\u001b[0;32m<ipython-input-39-d9e0fd03f210>\u001b[0m in \u001b[0;36m<module>\u001b[0;34m\u001b[0m\n\u001b[1;32m     17\u001b[0m     \u001b[0;32mreturn\u001b[0m \u001b[0mfp\u001b[0m\u001b[0;34m\u001b[0m\u001b[0;34m\u001b[0m\u001b[0m\n\u001b[1;32m     18\u001b[0m \u001b[0;34m\u001b[0m\u001b[0m\n\u001b[0;32m---> 19\u001b[0;31m \u001b[0mfind_fixed_points\u001b[0m\u001b[0;34m(\u001b[0m\u001b[0;36m100\u001b[0m\u001b[0;34m)\u001b[0m\u001b[0;34m\u001b[0m\u001b[0;34m\u001b[0m\u001b[0m\n\u001b[0m",
      "\u001b[0;32m<ipython-input-39-d9e0fd03f210>\u001b[0m in \u001b[0;36mfind_fixed_points\u001b[0;34m(r)\u001b[0m\n\u001b[1;32m     12\u001b[0m     \u001b[0;32mfor\u001b[0m \u001b[0mx\u001b[0m \u001b[0;32min\u001b[0m \u001b[0mrange\u001b[0m\u001b[0;34m(\u001b[0m\u001b[0mr\u001b[0m\u001b[0;34m)\u001b[0m\u001b[0;34m:\u001b[0m\u001b[0;34m\u001b[0m\u001b[0;34m\u001b[0m\u001b[0m\n\u001b[1;32m     13\u001b[0m         \u001b[0;32mfor\u001b[0m \u001b[0my\u001b[0m \u001b[0;32min\u001b[0m \u001b[0mrange\u001b[0m\u001b[0;34m(\u001b[0m\u001b[0mr\u001b[0m\u001b[0;34m)\u001b[0m\u001b[0;34m:\u001b[0m\u001b[0;34m\u001b[0m\u001b[0;34m\u001b[0m\u001b[0m\n\u001b[0;32m---> 14\u001b[0;31m             \u001b[0;32mif\u001b[0m \u001b[0;34m(\u001b[0m\u001b[0;34m(\u001b[0m\u001b[0mdhdt\u001b[0m\u001b[0;34m(\u001b[0m\u001b[0mx\u001b[0m\u001b[0;34m,\u001b[0m\u001b[0my\u001b[0m\u001b[0;34m)\u001b[0m \u001b[0;34m==\u001b[0m \u001b[0;36m0\u001b[0m\u001b[0;34m)\u001b[0m \u001b[0;32mand\u001b[0m \u001b[0;34m(\u001b[0m\u001b[0mdxdt\u001b[0m\u001b[0;34m(\u001b[0m\u001b[0mx\u001b[0m\u001b[0;34m,\u001b[0m\u001b[0my\u001b[0m\u001b[0;34m)\u001b[0m \u001b[0;34m==\u001b[0m \u001b[0;36m0\u001b[0m\u001b[0;34m)\u001b[0m\u001b[0;34m)\u001b[0m\u001b[0;34m:\u001b[0m\u001b[0;34m\u001b[0m\u001b[0;34m\u001b[0m\u001b[0m\n\u001b[0m\u001b[1;32m     15\u001b[0m                 \u001b[0mfp\u001b[0m\u001b[0;34m.\u001b[0m\u001b[0mappend\u001b[0m\u001b[0;34m(\u001b[0m\u001b[0;34m(\u001b[0m\u001b[0mx\u001b[0m\u001b[0;34m,\u001b[0m\u001b[0my\u001b[0m\u001b[0;34m)\u001b[0m\u001b[0;34m)\u001b[0m\u001b[0;34m\u001b[0m\u001b[0;34m\u001b[0m\u001b[0m\n\u001b[1;32m     16\u001b[0m                 \u001b[0mprint\u001b[0m\u001b[0;34m(\u001b[0m\u001b[0;34m'The system has a fixed point in %s,%s'\u001b[0m \u001b[0;34m%\u001b[0m \u001b[0;34m(\u001b[0m\u001b[0mx\u001b[0m\u001b[0;34m,\u001b[0m\u001b[0my\u001b[0m\u001b[0;34m)\u001b[0m\u001b[0;34m)\u001b[0m\u001b[0;34m\u001b[0m\u001b[0;34m\u001b[0m\u001b[0m\n",
      "\u001b[0;32m<ipython-input-39-d9e0fd03f210>\u001b[0m in \u001b[0;36mdhdt\u001b[0;34m(h, x)\u001b[0m\n\u001b[1;32m      3\u001b[0m \u001b[0;31m# define system in terms of separated differential equations\u001b[0m\u001b[0;34m\u001b[0m\u001b[0;34m\u001b[0m\u001b[0;34m\u001b[0m\u001b[0m\n\u001b[1;32m      4\u001b[0m \u001b[0;32mdef\u001b[0m \u001b[0mdhdt\u001b[0m\u001b[0;34m(\u001b[0m\u001b[0mh\u001b[0m\u001b[0;34m,\u001b[0m\u001b[0mx\u001b[0m\u001b[0;34m)\u001b[0m\u001b[0;34m:\u001b[0m\u001b[0;34m\u001b[0m\u001b[0;34m\u001b[0m\u001b[0m\n\u001b[0;32m----> 5\u001b[0;31m     \u001b[0;32mreturn\u001b[0m \u001b[0;34m-\u001b[0m\u001b[0mh\u001b[0m\u001b[0;34m+\u001b[0m\u001b[0;36m3\u001b[0m\u001b[0;34m*\u001b[0m\u001b[0mx\u001b[0m\u001b[0;34m*\u001b[0m\u001b[0mg\u001b[0m\u001b[0;34m(\u001b[0m\u001b[0mh\u001b[0m\u001b[0;34m)\u001b[0m\u001b[0;34m\u001b[0m\u001b[0;34m\u001b[0m\u001b[0m\n\u001b[0m\u001b[1;32m      6\u001b[0m \u001b[0;32mdef\u001b[0m \u001b[0mdxdt\u001b[0m\u001b[0;34m(\u001b[0m\u001b[0mh\u001b[0m\u001b[0;34m,\u001b[0m\u001b[0mx\u001b[0m\u001b[0;34m)\u001b[0m\u001b[0;34m:\u001b[0m\u001b[0;34m\u001b[0m\u001b[0;34m\u001b[0m\u001b[0m\n\u001b[1;32m      7\u001b[0m     \u001b[0;32mreturn\u001b[0m \u001b[0;34m(\u001b[0m\u001b[0;36m2.8\u001b[0m\u001b[0;34m-\u001b[0m\u001b[0mx\u001b[0m\u001b[0;34m-\u001b[0m\u001b[0;36m9\u001b[0m\u001b[0;34m*\u001b[0m\u001b[0mx\u001b[0m\u001b[0;34m*\u001b[0m\u001b[0mg\u001b[0m\u001b[0;34m(\u001b[0m\u001b[0mh\u001b[0m\u001b[0;34m)\u001b[0m\u001b[0;34m)\u001b[0m\u001b[0;34m/\u001b[0m\u001b[0;36m20\u001b[0m\u001b[0;34m\u001b[0m\u001b[0;34m\u001b[0m\u001b[0m\n",
      "\u001b[0;32m<ipython-input-38-9edf2c91fdea>\u001b[0m in \u001b[0;36mg\u001b[0;34m(inpt)\u001b[0m\n\u001b[1;32m      5\u001b[0m \u001b[0;34m\u001b[0m\u001b[0m\n\u001b[1;32m      6\u001b[0m \u001b[0;32mdef\u001b[0m \u001b[0mg\u001b[0m\u001b[0;34m(\u001b[0m\u001b[0minpt\u001b[0m\u001b[0;34m)\u001b[0m\u001b[0;34m:\u001b[0m\u001b[0;34m\u001b[0m\u001b[0;34m\u001b[0m\u001b[0m\n\u001b[0;32m----> 7\u001b[0;31m     \u001b[0minpt\u001b[0m\u001b[0;34m[\u001b[0m\u001b[0minpt\u001b[0m\u001b[0;34m<=\u001b[0m\u001b[0;36m0.4\u001b[0m\u001b[0;34m]\u001b[0m\u001b[0;34m=\u001b[0m\u001b[0;36m0.2\u001b[0m\u001b[0;34m\u001b[0m\u001b[0;34m\u001b[0m\u001b[0m\n\u001b[0m\u001b[1;32m      8\u001b[0m     \u001b[0minpt\u001b[0m\u001b[0;34m[\u001b[0m\u001b[0minpt\u001b[0m\u001b[0;34m>\u001b[0m\u001b[0;36m0.4\u001b[0m \u001b[0;32mand\u001b[0m \u001b[0minpt\u001b[0m\u001b[0;34m<\u001b[0m\u001b[0;36m0.8\u001b[0m\u001b[0;34m]\u001b[0m\u001b[0;34m=\u001b[0m\u001b[0;36m2\u001b[0m\u001b[0;34m*\u001b[0m\u001b[0minpt\u001b[0m\u001b[0;34m-\u001b[0m\u001b[0;36m0.6\u001b[0m\u001b[0;34m\u001b[0m\u001b[0;34m\u001b[0m\u001b[0m\n\u001b[1;32m      9\u001b[0m     \u001b[0minpt\u001b[0m\u001b[0;34m[\u001b[0m\u001b[0minpt\u001b[0m\u001b[0;34m>=\u001b[0m\u001b[0;36m0.8\u001b[0m\u001b[0;34m]\u001b[0m\u001b[0;34m=\u001b[0m\u001b[0;36m1\u001b[0m\u001b[0;34m\u001b[0m\u001b[0;34m\u001b[0m\u001b[0m\n",
      "\u001b[0;31mTypeError\u001b[0m: 'int' object does not support item assignment"
     ]
    }
   ],
   "source": [
    "# brute force: iterate through possibility space (r)\n",
    "\n",
    "# define system in terms of separated differential equations\n",
    "def dhdt(h,x):\n",
    "    return -h+3*x*g(h)\n",
    "def dxdt(h,x):\n",
    "    return (2.8-x-9*x*g(h))/20\n",
    "\n",
    "fp = []\n",
    "\n",
    "def find_fixed_points(r):\n",
    "    for x in range(r):\n",
    "        for y in range(r):\n",
    "            if ((dhdt(x,y) == 0) and (dxdt(x,y) == 0)):\n",
    "                fp.append((x,y))\n",
    "                print('The system has a fixed point in %s,%s' % (x,y))\n",
    "    return fp\n",
    "\n",
    "find_fixed_points(100)"
   ]
  },
  {
   "cell_type": "code",
   "execution_count": 43,
   "metadata": {},
   "outputs": [
    {
     "name": "stdout",
     "output_type": "stream",
     "text": [
      "(20, 20) (20, 20)\n",
      "[[0.         0.10526316 0.21052632 0.31578947 0.42105263 0.52631579\n",
      "  0.63157895 0.73684211 0.84210526 0.94736842 1.05263158 1.15789474\n",
      "  1.26315789 1.36842105 1.47368421 1.57894737 1.68421053 1.78947368\n",
      "  1.89473684 2.        ]\n",
      " [0.         0.10526316 0.21052632 0.31578947 0.42105263 0.52631579\n",
      "  0.63157895 0.73684211 0.84210526 0.94736842 1.05263158 1.15789474\n",
      "  1.26315789 1.36842105 1.47368421 1.57894737 1.68421053 1.78947368\n",
      "  1.89473684 2.        ]\n",
      " [0.         0.10526316 0.21052632 0.31578947 0.42105263 0.52631579\n",
      "  0.63157895 0.73684211 0.84210526 0.94736842 1.05263158 1.15789474\n",
      "  1.26315789 1.36842105 1.47368421 1.57894737 1.68421053 1.78947368\n",
      "  1.89473684 2.        ]\n",
      " [0.         0.10526316 0.21052632 0.31578947 0.42105263 0.52631579\n",
      "  0.63157895 0.73684211 0.84210526 0.94736842 1.05263158 1.15789474\n",
      "  1.26315789 1.36842105 1.47368421 1.57894737 1.68421053 1.78947368\n",
      "  1.89473684 2.        ]\n",
      " [0.         0.10526316 0.21052632 0.31578947 0.42105263 0.52631579\n",
      "  0.63157895 0.73684211 0.84210526 0.94736842 1.05263158 1.15789474\n",
      "  1.26315789 1.36842105 1.47368421 1.57894737 1.68421053 1.78947368\n",
      "  1.89473684 2.        ]\n",
      " [0.         0.10526316 0.21052632 0.31578947 0.42105263 0.52631579\n",
      "  0.63157895 0.73684211 0.84210526 0.94736842 1.05263158 1.15789474\n",
      "  1.26315789 1.36842105 1.47368421 1.57894737 1.68421053 1.78947368\n",
      "  1.89473684 2.        ]\n",
      " [0.         0.10526316 0.21052632 0.31578947 0.42105263 0.52631579\n",
      "  0.63157895 0.73684211 0.84210526 0.94736842 1.05263158 1.15789474\n",
      "  1.26315789 1.36842105 1.47368421 1.57894737 1.68421053 1.78947368\n",
      "  1.89473684 2.        ]\n",
      " [0.         0.10526316 0.21052632 0.31578947 0.42105263 0.52631579\n",
      "  0.63157895 0.73684211 0.84210526 0.94736842 1.05263158 1.15789474\n",
      "  1.26315789 1.36842105 1.47368421 1.57894737 1.68421053 1.78947368\n",
      "  1.89473684 2.        ]\n",
      " [0.         0.10526316 0.21052632 0.31578947 0.42105263 0.52631579\n",
      "  0.63157895 0.73684211 0.84210526 0.94736842 1.05263158 1.15789474\n",
      "  1.26315789 1.36842105 1.47368421 1.57894737 1.68421053 1.78947368\n",
      "  1.89473684 2.        ]\n",
      " [0.         0.10526316 0.21052632 0.31578947 0.42105263 0.52631579\n",
      "  0.63157895 0.73684211 0.84210526 0.94736842 1.05263158 1.15789474\n",
      "  1.26315789 1.36842105 1.47368421 1.57894737 1.68421053 1.78947368\n",
      "  1.89473684 2.        ]\n",
      " [0.         0.10526316 0.21052632 0.31578947 0.42105263 0.52631579\n",
      "  0.63157895 0.73684211 0.84210526 0.94736842 1.05263158 1.15789474\n",
      "  1.26315789 1.36842105 1.47368421 1.57894737 1.68421053 1.78947368\n",
      "  1.89473684 2.        ]\n",
      " [0.         0.10526316 0.21052632 0.31578947 0.42105263 0.52631579\n",
      "  0.63157895 0.73684211 0.84210526 0.94736842 1.05263158 1.15789474\n",
      "  1.26315789 1.36842105 1.47368421 1.57894737 1.68421053 1.78947368\n",
      "  1.89473684 2.        ]\n",
      " [0.         0.10526316 0.21052632 0.31578947 0.42105263 0.52631579\n",
      "  0.63157895 0.73684211 0.84210526 0.94736842 1.05263158 1.15789474\n",
      "  1.26315789 1.36842105 1.47368421 1.57894737 1.68421053 1.78947368\n",
      "  1.89473684 2.        ]\n",
      " [0.         0.10526316 0.21052632 0.31578947 0.42105263 0.52631579\n",
      "  0.63157895 0.73684211 0.84210526 0.94736842 1.05263158 1.15789474\n",
      "  1.26315789 1.36842105 1.47368421 1.57894737 1.68421053 1.78947368\n",
      "  1.89473684 2.        ]\n",
      " [0.         0.10526316 0.21052632 0.31578947 0.42105263 0.52631579\n",
      "  0.63157895 0.73684211 0.84210526 0.94736842 1.05263158 1.15789474\n",
      "  1.26315789 1.36842105 1.47368421 1.57894737 1.68421053 1.78947368\n",
      "  1.89473684 2.        ]\n",
      " [0.         0.10526316 0.21052632 0.31578947 0.42105263 0.52631579\n",
      "  0.63157895 0.73684211 0.84210526 0.94736842 1.05263158 1.15789474\n",
      "  1.26315789 1.36842105 1.47368421 1.57894737 1.68421053 1.78947368\n",
      "  1.89473684 2.        ]\n",
      " [0.         0.10526316 0.21052632 0.31578947 0.42105263 0.52631579\n",
      "  0.63157895 0.73684211 0.84210526 0.94736842 1.05263158 1.15789474\n",
      "  1.26315789 1.36842105 1.47368421 1.57894737 1.68421053 1.78947368\n",
      "  1.89473684 2.        ]\n",
      " [0.         0.10526316 0.21052632 0.31578947 0.42105263 0.52631579\n",
      "  0.63157895 0.73684211 0.84210526 0.94736842 1.05263158 1.15789474\n",
      "  1.26315789 1.36842105 1.47368421 1.57894737 1.68421053 1.78947368\n",
      "  1.89473684 2.        ]\n",
      " [0.         0.10526316 0.21052632 0.31578947 0.42105263 0.52631579\n",
      "  0.63157895 0.73684211 0.84210526 0.94736842 1.05263158 1.15789474\n",
      "  1.26315789 1.36842105 1.47368421 1.57894737 1.68421053 1.78947368\n",
      "  1.89473684 2.        ]\n",
      " [0.         0.10526316 0.21052632 0.31578947 0.42105263 0.52631579\n",
      "  0.63157895 0.73684211 0.84210526 0.94736842 1.05263158 1.15789474\n",
      "  1.26315789 1.36842105 1.47368421 1.57894737 1.68421053 1.78947368\n",
      "  1.89473684 2.        ]]\n"
     ]
    },
    {
     "ename": "TypeError",
     "evalue": "NumPy boolean array indexing assignment requires a 0 or 1-dimensional input, input has 2 dimensions",
     "output_type": "error",
     "traceback": [
      "\u001b[0;31m---------------------------------------------------------------------------\u001b[0m",
      "\u001b[0;31mTypeError\u001b[0m                                 Traceback (most recent call last)",
      "\u001b[0;32m<ipython-input-43-37174441e64b>\u001b[0m in \u001b[0;36m<module>\u001b[0;34m\u001b[0m\n\u001b[1;32m     25\u001b[0m \u001b[0mprint\u001b[0m\u001b[0;34m(\u001b[0m\u001b[0mX1\u001b[0m\u001b[0;34m.\u001b[0m\u001b[0mshape\u001b[0m\u001b[0;34m,\u001b[0m\u001b[0mY1\u001b[0m\u001b[0;34m.\u001b[0m\u001b[0mshape\u001b[0m\u001b[0;34m)\u001b[0m\u001b[0;34m\u001b[0m\u001b[0;34m\u001b[0m\u001b[0m\n\u001b[1;32m     26\u001b[0m \u001b[0mprint\u001b[0m\u001b[0;34m(\u001b[0m\u001b[0mX1\u001b[0m\u001b[0;34m)\u001b[0m\u001b[0;34m\u001b[0m\u001b[0;34m\u001b[0m\u001b[0m\n\u001b[0;32m---> 27\u001b[0;31m \u001b[0mDX1\u001b[0m\u001b[0;34m,\u001b[0m \u001b[0mDY1\u001b[0m \u001b[0;34m=\u001b[0m \u001b[0;34m[\u001b[0m\u001b[0mdxdt\u001b[0m\u001b[0;34m(\u001b[0m\u001b[0mX1\u001b[0m\u001b[0;34m,\u001b[0m\u001b[0mY1\u001b[0m\u001b[0;34m)\u001b[0m\u001b[0;34m,\u001b[0m \u001b[0mdydt\u001b[0m\u001b[0;34m(\u001b[0m\u001b[0mX1\u001b[0m\u001b[0;34m,\u001b[0m\u001b[0mY1\u001b[0m\u001b[0;34m)\u001b[0m\u001b[0;34m]\u001b[0m                       \u001b[0;31m# compute growth rate on the grid\u001b[0m\u001b[0;34m\u001b[0m\u001b[0;34m\u001b[0m\u001b[0m\n\u001b[0m\u001b[1;32m     28\u001b[0m \u001b[0mM\u001b[0m \u001b[0;34m=\u001b[0m \u001b[0;34m(\u001b[0m\u001b[0mnp\u001b[0m\u001b[0;34m.\u001b[0m\u001b[0mhypot\u001b[0m\u001b[0;34m(\u001b[0m\u001b[0mDX1\u001b[0m\u001b[0;34m,\u001b[0m \u001b[0mDY1\u001b[0m\u001b[0;34m)\u001b[0m\u001b[0;34m)\u001b[0m                        \u001b[0;31m# norm growth rate\u001b[0m\u001b[0;34m\u001b[0m\u001b[0;34m\u001b[0m\u001b[0m\n\u001b[1;32m     29\u001b[0m \u001b[0mM\u001b[0m\u001b[0;34m[\u001b[0m \u001b[0mM\u001b[0m \u001b[0;34m==\u001b[0m \u001b[0;36m0\u001b[0m\u001b[0;34m]\u001b[0m \u001b[0;34m=\u001b[0m \u001b[0;36m1.\u001b[0m                                 \u001b[0;31m# avoid zero division errors\u001b[0m\u001b[0;34m\u001b[0m\u001b[0;34m\u001b[0m\u001b[0m\n",
      "\u001b[0;32m<ipython-input-39-d9e0fd03f210>\u001b[0m in \u001b[0;36mdxdt\u001b[0;34m(h, x)\u001b[0m\n\u001b[1;32m      5\u001b[0m     \u001b[0;32mreturn\u001b[0m \u001b[0;34m-\u001b[0m\u001b[0mh\u001b[0m\u001b[0;34m+\u001b[0m\u001b[0;36m3\u001b[0m\u001b[0;34m*\u001b[0m\u001b[0mx\u001b[0m\u001b[0;34m*\u001b[0m\u001b[0mg\u001b[0m\u001b[0;34m(\u001b[0m\u001b[0mh\u001b[0m\u001b[0;34m)\u001b[0m\u001b[0;34m\u001b[0m\u001b[0;34m\u001b[0m\u001b[0m\n\u001b[1;32m      6\u001b[0m \u001b[0;32mdef\u001b[0m \u001b[0mdxdt\u001b[0m\u001b[0;34m(\u001b[0m\u001b[0mh\u001b[0m\u001b[0;34m,\u001b[0m\u001b[0mx\u001b[0m\u001b[0;34m)\u001b[0m\u001b[0;34m:\u001b[0m\u001b[0;34m\u001b[0m\u001b[0;34m\u001b[0m\u001b[0m\n\u001b[0;32m----> 7\u001b[0;31m     \u001b[0;32mreturn\u001b[0m \u001b[0;34m(\u001b[0m\u001b[0;36m2.8\u001b[0m\u001b[0;34m-\u001b[0m\u001b[0mx\u001b[0m\u001b[0;34m-\u001b[0m\u001b[0;36m9\u001b[0m\u001b[0;34m*\u001b[0m\u001b[0mx\u001b[0m\u001b[0;34m*\u001b[0m\u001b[0mg\u001b[0m\u001b[0;34m(\u001b[0m\u001b[0mh\u001b[0m\u001b[0;34m)\u001b[0m\u001b[0;34m)\u001b[0m\u001b[0;34m/\u001b[0m\u001b[0;36m20\u001b[0m\u001b[0;34m\u001b[0m\u001b[0;34m\u001b[0m\u001b[0m\n\u001b[0m\u001b[1;32m      8\u001b[0m \u001b[0;34m\u001b[0m\u001b[0m\n\u001b[1;32m      9\u001b[0m \u001b[0mfp\u001b[0m \u001b[0;34m=\u001b[0m \u001b[0;34m[\u001b[0m\u001b[0;34m]\u001b[0m\u001b[0;34m\u001b[0m\u001b[0;34m\u001b[0m\u001b[0m\n",
      "\u001b[0;32m<ipython-input-41-e8e257d2419b>\u001b[0m in \u001b[0;36mg\u001b[0;34m(inpt)\u001b[0m\n\u001b[1;32m      6\u001b[0m \u001b[0;32mdef\u001b[0m \u001b[0mg\u001b[0m\u001b[0;34m(\u001b[0m\u001b[0minpt\u001b[0m\u001b[0;34m)\u001b[0m\u001b[0;34m:\u001b[0m\u001b[0;34m\u001b[0m\u001b[0;34m\u001b[0m\u001b[0m\n\u001b[1;32m      7\u001b[0m     \u001b[0minpt\u001b[0m\u001b[0;34m[\u001b[0m\u001b[0minpt\u001b[0m\u001b[0;34m<=\u001b[0m\u001b[0;36m0.4\u001b[0m\u001b[0;34m]\u001b[0m\u001b[0;34m=\u001b[0m\u001b[0;36m0.2\u001b[0m\u001b[0;34m\u001b[0m\u001b[0;34m\u001b[0m\u001b[0m\n\u001b[0;32m----> 8\u001b[0;31m     \u001b[0minpt\u001b[0m\u001b[0;34m[\u001b[0m\u001b[0mnp\u001b[0m\u001b[0;34m.\u001b[0m\u001b[0mlogical_and\u001b[0m\u001b[0;34m(\u001b[0m\u001b[0minpt\u001b[0m\u001b[0;34m>\u001b[0m\u001b[0;36m0.4\u001b[0m\u001b[0;34m,\u001b[0m\u001b[0minpt\u001b[0m\u001b[0;34m<\u001b[0m\u001b[0;36m0.8\u001b[0m\u001b[0;34m)\u001b[0m\u001b[0;34m]\u001b[0m\u001b[0;34m=\u001b[0m\u001b[0;36m2\u001b[0m\u001b[0;34m*\u001b[0m\u001b[0minpt\u001b[0m\u001b[0;34m-\u001b[0m\u001b[0;36m0.6\u001b[0m\u001b[0;34m\u001b[0m\u001b[0;34m\u001b[0m\u001b[0m\n\u001b[0m\u001b[1;32m      9\u001b[0m     \u001b[0minpt\u001b[0m\u001b[0;34m[\u001b[0m\u001b[0minpt\u001b[0m\u001b[0;34m>=\u001b[0m\u001b[0;36m0.8\u001b[0m\u001b[0;34m]\u001b[0m\u001b[0;34m=\u001b[0m\u001b[0;36m1\u001b[0m\u001b[0;34m\u001b[0m\u001b[0;34m\u001b[0m\u001b[0m\n\u001b[1;32m     10\u001b[0m     '''\n",
      "\u001b[0;31mTypeError\u001b[0m: NumPy boolean array indexing assignment requires a 0 or 1-dimensional input, input has 2 dimensions"
     ]
    },
    {
     "data": {
      "image/png": "[encoded data removed]",
      "text/plain": [
       "<Figure size 576x432 with 1 Axes>"
      ]
     },
     "metadata": {
      "needs_background": "light"
     },
     "output_type": "display_data"
    }
   ],
   "source": [
    "#plot\n",
    "fig2 = plt.figure(figsize=(8,6))\n",
    "ax4 = fig2.add_subplot(1,1,1)\n",
    "\n",
    "x = np.linspace(0,2,20)\n",
    "y = np.arange(0,2,20)\n",
    "\n",
    "# plot nullclines\n",
    "ax4.plot([0,2],[2,0], 'r-', lw=2, label='x-nullcline')\n",
    "ax4.plot([1,1],[0,2], 'b-', lw=2, label='y-nullcline')\n",
    "\n",
    "'''\n",
    "# plot fixed points\n",
    "for point in fp:\n",
    "    ax4.plot(point[0],point[1],\"red\", marker = \"o\", markersize = 10.0)\n",
    "ax4.set_title(\"Quiverplot with nullclines\")\n",
    "ax4.legend(loc='best')\n",
    "'''\n",
    "# quiverplot\n",
    "# define a grid and compute direction at each point\n",
    "x = np.linspace(0, 2, 20)\n",
    "y = np.linspace(0, 2, 20)\n",
    "\n",
    "X1 , Y1  = np.meshgrid(x, y) # create a grid\n",
    "print(X1.shape,Y1.shape)\n",
    "print(X1)\n",
    "DX1, DY1 = [dxdt(X1,Y1), dydt(X1,Y1)]                       # compute growth rate on the grid\n",
    "M = (np.hypot(DX1, DY1))                        # norm growth rate \n",
    "M[ M == 0] = 1.                                 # avoid zero division errors \n",
    "DX1 /= M                                        # normalize each arrows\n",
    "DY1 /= M\n",
    "\n",
    "ax4.quiver(X1, Y1, DX1, DY1, M, pivot='mid')\n",
    "ax4.legend()\n",
    "ax4.grid()"
   ]
  }
 ],
 "metadata": {
  "kernelspec": {
   "display_name": "Python 3",
   "language": "python",
   "name": "python3"
  },
  "language_info": {
   "codemirror_mode": {
    "name": "ipython",
    "version": 3
   },
   "file_extension": ".py",
   "mimetype": "text/x-python",
   "name": "python",
   "nbconvert_exporter": "python",
   "pygments_lexer": "ipython3",
   "version": "3.7.4"
  }
 },
 "nbformat": 4,
 "nbformat_minor": 2
}
