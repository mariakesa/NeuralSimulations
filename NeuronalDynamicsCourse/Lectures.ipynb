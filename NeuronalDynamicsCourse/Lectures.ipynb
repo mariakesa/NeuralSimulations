{
 "cells": [
  {
   "cell_type": "code",
   "execution_count": 4,
   "metadata": {},
   "outputs": [
    {
     "name": "stdout",
     "output_type": "stream",
     "text": [
      "Requirement already satisfied: brian2 in /home/maria/anaconda3/lib/python3.7/site-packages (2.2.2.1)\r\n",
      "Requirement already satisfied: numpy>=1.10 in /home/maria/anaconda3/lib/python3.7/site-packages (from brian2) (1.17.2)\r\n",
      "Requirement already satisfied: sympy!=1.1.0,>=0.7.6 in /home/maria/anaconda3/lib/python3.7/site-packages (from brian2) (1.5.1)\r\n",
      "Requirement already satisfied: pyparsing in /home/maria/anaconda3/lib/python3.7/site-packages (from brian2) (2.4.6)\r\n",
      "Requirement already satisfied: cython>=0.29 in /home/maria/anaconda3/lib/python3.7/site-packages (from brian2) (0.29.15)\r\n",
      "Requirement already satisfied: jinja2>=2.7 in /home/maria/anaconda3/lib/python3.7/site-packages (from brian2) (2.11.1)\r\n",
      "Requirement already satisfied: setuptools>=21 in /home/maria/.local/lib/python3.7/site-packages (from brian2) (41.6.0)\r\n",
      "Requirement already satisfied: mpmath>=0.19 in /home/maria/anaconda3/lib/python3.7/site-packages (from sympy!=1.1.0,>=0.7.6->brian2) (1.1.0)\r\n",
      "Requirement already satisfied: MarkupSafe>=0.23 in /home/maria/anaconda3/lib/python3.7/site-packages (from jinja2>=2.7->brian2) (1.1.1)\r\n"
     ]
    }
   ],
   "source": [
    "import numpy as np\n",
    "from brian2 import *\n",
    "!pip install brian2"
   ]
  },
  {
   "cell_type": "markdown",
   "metadata": {},
   "source": [
    "# Lecture 1"
   ]
  },
  {
   "cell_type": "code",
   "execution_count": 6,
   "metadata": {},
   "outputs": [
    {
     "name": "stderr",
     "output_type": "stream",
     "text": [
      "INFO       No numerical integration method specified for group 'neurongroup_2', using method 'exact' (took 0.03s). [brian2.stateupdaters.base.method_choice]\n"
     ]
    },
    {
     "data": {
      "image/png": "[encoded data removed]",
      "text/plain": [
       "<Figure size 432x288 with 1 Axes>"
      ]
     },
     "metadata": {
      "needs_background": "light"
     },
     "output_type": "display_data"
    }
   ],
   "source": [
    "#RC-Circuit\n",
    "\n",
    "from brian2 import *\n",
    "\n",
    "n = 1000\n",
    "duration = 1*second\n",
    "tau = 10*ms\n",
    "eqs = '''\n",
    "dv/dt = (v0 - v) / tau : volt (unless refractory)\n",
    "v0 : volt\n",
    "'''\n",
    "group = NeuronGroup(n, eqs, threshold='v > 10*mV', reset='v = 0*mV',\n",
    "                    refractory=5*ms, method='exact')\n",
    "group.v = 0*mV\n",
    "group.v0 = '20*mV * i / (n-1)'\n",
    "\n",
    "monitor = SpikeMonitor(group)\n",
    "\n",
    "run(duration)\n",
    "plot(group.v0/mV, monitor.count / duration)\n",
    "xlabel('v0 (mV)')\n",
    "ylabel('Firing rate (sp/s)')\n",
    "show()"
   ]
  }
 ],
 "metadata": {
  "kernelspec": {
   "display_name": "Python 3",
   "language": "python",
   "name": "python3"
  },
  "language_info": {
   "codemirror_mode": {
    "name": "ipython",
    "version": 3
   },
   "file_extension": ".py",
   "mimetype": "text/x-python",
   "name": "python",
   "nbconvert_exporter": "python",
   "pygments_lexer": "ipython3",
   "version": "3.7.10"
  }
 },
 "nbformat": 4,
 "nbformat_minor": 4
}
