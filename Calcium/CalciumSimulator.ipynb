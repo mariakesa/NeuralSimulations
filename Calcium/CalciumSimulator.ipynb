{
 "cells": [
  {
   "cell_type": "code",
   "execution_count": 1,
   "metadata": {},
   "outputs": [],
   "source": [
    "from brian2 import *"
   ]
  },
  {
   "cell_type": "code",
   "execution_count": 2,
   "metadata": {},
   "outputs": [],
   "source": [
    "clear_cache('cython')"
   ]
  },
  {
   "cell_type": "code",
   "execution_count": 3,
   "metadata": {
    "scrolled": true
   },
   "outputs": [
    {
     "name": "stdout",
     "output_type": "stream",
     "text": [
      "NeuronGroup(clock=Clock(dt=100. * usecond, name='defaultclock'), when=start, order=0, name='neurongroup')\n"
     ]
    },
    {
     "name": "stderr",
     "output_type": "stream",
     "text": [
      "WARNING    /home/maria/anaconda3/lib/python3.7/site-packages/Cython/Compiler/Main.py:369: FutureWarning: Cython directive 'language_level' not set, using 2 for now (Py2). This will change in a later release! File: /home/maria/.cython/brian_extensions/_cython_magic_0a244ec4876eb43da34fbf1eb50cf9ba.pyx\n",
      "  tree = Parsing.p_module(s, pxd, full_module_name)\n",
      " [py.warnings]\n"
     ]
    },
    {
     "data": {
      "image/png": "[encoded data removed]",
      "text/plain": [
       "<Figure size 432x288 with 1 Axes>"
      ]
     },
     "metadata": {
      "needs_background": "light"
     },
     "output_type": "display_data"
    }
   ],
   "source": [
    "class CalciumMonitor(SpikeMonitor):\n",
    "    def __init__(self,source):\n",
    "        SpikeMonitor.__init__(self,source)\n",
    "        print(source)\n",
    "\n",
    "\n",
    "N = 100\n",
    "tau = 10*ms\n",
    "eqs = '''\n",
    "dv/dt = (2-v)/tau : 1\n",
    "'''\n",
    "\n",
    "G = NeuronGroup(N, eqs, threshold='v>1', reset='v=0', method='exact')\n",
    "G.v = 'rand()'\n",
    "c=CalciumMonitor(G)\n",
    "\n",
    "run(50*ms)\n",
    "\n",
    "plot(c.t/ms, c.i, '.k')\n",
    "xlabel('Time (ms)')\n",
    "ylabel('Neuron index');"
   ]
  },
  {
   "cell_type": "code",
   "execution_count": 4,
   "metadata": {
    "scrolled": true
   },
   "outputs": [
    {
     "name": "stdout",
     "output_type": "stream",
     "text": [
      "{0: array([ 4.9, 11.9, 18.9, 25.9, 32.9, 39.9, 46.9]) * msecond, 1: array([ 4.3, 11.3, 18.3, 25.3, 32.3, 39.3, 46.3]) * msecond, 2: array([ 5.9, 12.9, 19.9, 26.9, 33.9, 40.9, 47.9]) * msecond, 3: array([ 6.5, 13.5, 20.5, 27.5, 34.5, 41.5, 48.5]) * msecond, 4: array([ 0.2,  7.2, 14.2, 21.2, 28.2, 35.2, 42.2, 49.2]) * msecond, 5: array([ 0.7,  7.7, 14.7, 21.7, 28.7, 35.7, 42.7, 49.7]) * msecond, 6: array([ 4.2, 11.2, 18.2, 25.2, 32.2, 39.2, 46.2]) * msecond, 7: array([ 5.6, 12.6, 19.6, 26.6, 33.6, 40.6, 47.6]) * msecond, 8: array([ 5.4, 12.4, 19.4, 26.4, 33.4, 40.4, 47.4]) * msecond, 9: array([ 6.9, 13.9, 20.9, 27.9, 34.9, 41.9, 48.9]) * msecond, 10: array([ 4.2, 11.2, 18.2, 25.2, 32.2, 39.2, 46.2]) * msecond, 11: array([ 6.6, 13.6, 20.6, 27.6, 34.6, 41.6, 48.6]) * msecond, 12: array([ 5.3, 12.3, 19.3, 26.3, 33.3, 40.3, 47.3]) * msecond, 13: array([ 3., 10., 17., 24., 31., 38., 45.]) * msecond, 14: array([ 3.5, 10.5, 17.5, 24.5, 31.5, 38.5, 45.5]) * msecond, 15: array([ 5.9, 12.9, 19.9, 26.9, 33.9, 40.9, 47.9]) * msecond, 16: array([ 4.7, 11.7, 18.7, 25.7, 32.7, 39.7, 46.7]) * msecond, 17: array([ 6.2, 13.2, 20.2, 27.2, 34.2, 41.2, 48.2]) * msecond, 18: array([ 2.,  9., 16., 23., 30., 37., 44.]) * msecond, 19: array([ 0.,  7., 14., 21., 28., 35., 42., 49.]) * msecond, 20: array([ 4.5, 11.5, 18.5, 25.5, 32.5, 39.5, 46.5]) * msecond, 21: array([ 1.8,  8.8, 15.8, 22.8, 29.8, 36.8, 43.8]) * msecond, 22: array([ 2.6,  9.6, 16.6, 23.6, 30.6, 37.6, 44.6]) * msecond, 23: array([ 1.8,  8.8, 15.8, 22.8, 29.8, 36.8, 43.8]) * msecond, 24: array([ 6.3, 13.3, 20.3, 27.3, 34.3, 41.3, 48.3]) * msecond, 25: array([ 5.4, 12.4, 19.4, 26.4, 33.4, 40.4, 47.4]) * msecond, 26: array([ 5.1, 12.1, 19.1, 26.1, 33.1, 40.1, 47.1]) * msecond, 27: array([ 4.2, 11.2, 18.2, 25.2, 32.2, 39.2, 46.2]) * msecond, 28: array([ 4.7, 11.7, 18.7, 25.7, 32.7, 39.7, 46.7]) * msecond, 29: array([ 0.6,  7.6, 14.6, 21.6, 28.6, 35.6, 42.6, 49.6]) * msecond, 30: array([ 3.2, 10.2, 17.2, 24.2, 31.2, 38.2, 45.2]) * msecond, 31: array([ 2.4,  9.4, 16.4, 23.4, 30.4, 37.4, 44.4]) * msecond, 32: array([ 6.3, 13.3, 20.3, 27.3, 34.3, 41.3, 48.3]) * msecond, 33: array([ 6.4, 13.4, 20.4, 27.4, 34.4, 41.4, 48.4]) * msecond, 34: array([ 0.7,  7.7, 14.7, 21.7, 28.7, 35.7, 42.7, 49.7]) * msecond, 35: array([ 4.3, 11.3, 18.3, 25.3, 32.3, 39.3, 46.3]) * msecond, 36: array([ 3.8, 10.8, 17.8, 24.8, 31.8, 38.8, 45.8]) * msecond, 37: array([ 4.5, 11.5, 18.5, 25.5, 32.5, 39.5, 46.5]) * msecond, 38: array([ 3.4, 10.4, 17.4, 24.4, 31.4, 38.4, 45.4]) * msecond, 39: array([ 6.6, 13.6, 20.6, 27.6, 34.6, 41.6, 48.6]) * msecond, 40: array([ 6., 13., 20., 27., 34., 41., 48.]) * msecond, 41: array([ 2.6,  9.6, 16.6, 23.6, 30.6, 37.6, 44.6]) * msecond, 42: array([ 5.9, 12.9, 19.9, 26.9, 33.9, 40.9, 47.9]) * msecond, 43: array([ 1.1,  8.1, 15.1, 22.1, 29.1, 36.1, 43.1]) * msecond, 44: array([ 0.5,  7.5, 14.5, 21.5, 28.5, 35.5, 42.5, 49.5]) * msecond, 45: array([ 5.1, 12.1, 19.1, 26.1, 33.1, 40.1, 47.1]) * msecond, 46: array([ 2.4,  9.4, 16.4, 23.4, 30.4, 37.4, 44.4]) * msecond, 47: array([ 6.2, 13.2, 20.2, 27.2, 34.2, 41.2, 48.2]) * msecond, 48: array([ 5.6, 12.6, 19.6, 26.6, 33.6, 40.6, 47.6]) * msecond, 49: array([ 2.3,  9.3, 16.3, 23.3, 30.3, 37.3, 44.3]) * msecond, 50: array([ 6.4, 13.4, 20.4, 27.4, 34.4, 41.4, 48.4]) * msecond, 51: array([ 3.7, 10.7, 17.7, 24.7, 31.7, 38.7, 45.7]) * msecond, 52: array([ 6.9, 13.9, 20.9, 27.9, 34.9, 41.9, 48.9]) * msecond, 53: array([ 4.7, 11.7, 18.7, 25.7, 32.7, 39.7, 46.7]) * msecond, 54: array([ 3.8, 10.8, 17.8, 24.8, 31.8, 38.8, 45.8]) * msecond, 55: array([ 3.4, 10.4, 17.4, 24.4, 31.4, 38.4, 45.4]) * msecond, 56: array([ 6.1, 13.1, 20.1, 27.1, 34.1, 41.1, 48.1]) * msecond, 57: array([ 3.9, 10.9, 17.9, 24.9, 31.9, 38.9, 45.9]) * msecond, 58: array([ 6.4, 13.4, 20.4, 27.4, 34.4, 41.4, 48.4]) * msecond, 59: array([ 3.5, 10.5, 17.5, 24.5, 31.5, 38.5, 45.5]) * msecond, 60: array([ 2.7,  9.7, 16.7, 23.7, 30.7, 37.7, 44.7]) * msecond, 61: array([ 5.5, 12.5, 19.5, 26.5, 33.5, 40.5, 47.5]) * msecond, 62: array([ 0.,  7., 14., 21., 28., 35., 42., 49.]) * msecond, 63: array([ 4.3, 11.3, 18.3, 25.3, 32.3, 39.3, 46.3]) * msecond, 64: array([ 0.5,  7.5, 14.5, 21.5, 28.5, 35.5, 42.5, 49.5]) * msecond, 65: array([ 4.9, 11.9, 18.9, 25.9, 32.9, 39.9, 46.9]) * msecond, 66: array([ 0.8,  7.8, 14.8, 21.8, 28.8, 35.8, 42.8, 49.8]) * msecond, 67: array([ 6.6, 13.6, 20.6, 27.6, 34.6, 41.6, 48.6]) * msecond, 68: array([ 1.5,  8.5, 15.5, 22.5, 29.5, 36.5, 43.5]) * msecond, 69: array([ 2.1,  9.1, 16.1, 23.1, 30.1, 37.1, 44.1]) * msecond, 70: array([ 0.7,  7.7, 14.7, 21.7, 28.7, 35.7, 42.7, 49.7]) * msecond, 71: array([ 3.2, 10.2, 17.2, 24.2, 31.2, 38.2, 45.2]) * msecond, 72: array([ 6.3, 13.3, 20.3, 27.3, 34.3, 41.3, 48.3]) * msecond, 73: array([ 5., 12., 19., 26., 33., 40., 47.]) * msecond, 74: array([ 2.4,  9.4, 16.4, 23.4, 30.4, 37.4, 44.4]) * msecond, 75: array([ 1.4,  8.4, 15.4, 22.4, 29.4, 36.4, 43.4]) * msecond, 76: array([ 3.4, 10.4, 17.4, 24.4, 31.4, 38.4, 45.4]) * msecond, 77: array([ 1.7,  8.7, 15.7, 22.7, 29.7, 36.7, 43.7]) * msecond, 78: array([ 6.2, 13.2, 20.2, 27.2, 34.2, 41.2, 48.2]) * msecond, 79: array([ 5.5, 12.5, 19.5, 26.5, 33.5, 40.5, 47.5]) * msecond, 80: array([ 6.7, 13.7, 20.7, 27.7, 34.7, 41.7, 48.7]) * msecond, 81: array([ 4.5, 11.5, 18.5, 25.5, 32.5, 39.5, 46.5]) * msecond, 82: array([ 6.6, 13.6, 20.6, 27.6, 34.6, 41.6, 48.6]) * msecond, 83: array([ 6.7, 13.7, 20.7, 27.7, 34.7, 41.7, 48.7]) * msecond, 84: array([ 6.7, 13.7, 20.7, 27.7, 34.7, 41.7, 48.7]) * msecond, 85: array([ 4.2, 11.2, 18.2, 25.2, 32.2, 39.2, 46.2]) * msecond, 86: array([ 0.,  7., 14., 21., 28., 35., 42., 49.]) * msecond, 87: array([ 4.1, 11.1, 18.1, 25.1, 32.1, 39.1, 46.1]) * msecond, 88: array([ 2.2,  9.2, 16.2, 23.2, 30.2, 37.2, 44.2]) * msecond, 89: array([ 4.4, 11.4, 18.4, 25.4, 32.4, 39.4, 46.4]) * msecond, 90: array([ 4.9, 11.9, 18.9, 25.9, 32.9, 39.9, 46.9]) * msecond, 91: array([ 3.7, 10.7, 17.7, 24.7, 31.7, 38.7, 45.7]) * msecond, 92: array([ 2.5,  9.5, 16.5, 23.5, 30.5, 37.5, 44.5]) * msecond, 93: array([ 5.1, 12.1, 19.1, 26.1, 33.1, 40.1, 47.1]) * msecond, 94: array([ 0.4,  7.4, 14.4, 21.4, 28.4, 35.4, 42.4, 49.4]) * msecond, 95: array([ 5.5, 12.5, 19.5, 26.5, 33.5, 40.5, 47.5]) * msecond, 96: array([ 5.2, 12.2, 19.2, 26.2, 33.2, 40.2, 47.2]) * msecond, 97: array([ 6.3, 13.3, 20.3, 27.3, 34.3, 41.3, 48.3]) * msecond, 98: array([ 4.4, 11.4, 18.4, 25.4, 32.4, 39.4, 46.4]) * msecond, 99: array([ 6., 13., 20., 27., 34., 41., 48.]) * msecond}\n"
     ]
    }
   ],
   "source": [
    "print(c.spike_trains())"
   ]
  },
  {
   "cell_type": "code",
   "execution_count": null,
   "metadata": {},
   "outputs": [],
   "source": [
    "'''\n",
    "https://github.com/HelmchenLab/CalciumSim/blob/master/modelCalcium/modelCalcium.m\n",
    "https://github.com/HelmchenLab/CalciumSim/blob/master/modelCalcium/etc/spkTimes2Calcium.m\n",
    "tauOn ... 10ms\n",
    "% ampFast ... 8% tauFast ... 60ms\n",
    "% ampSlow ... 3% tauSlow ... 800ms\n",
    "x = 0:(1/frameRate):duration;\n",
    "y = (1-(exp(-(x-spkT)./tauOn))).*...\n",
    "    (ampFast.*exp(-(x-spkT)./tauFast))+(ampSlow.*exp(-(x-spkT)./tauSlow)); \n",
    "% y = (1-(exp(-(x-spkT)./tauOn))).*(ampFast*exp(-(x-spkT)./tauFast));\n",
    "y(x<spkT) = 0;\n",
    "y(isnan(y)) = 0;\n",
    "'''"
   ]
  },
  {
   "cell_type": "code",
   "execution_count": 17,
   "metadata": {},
   "outputs": [
    {
     "data": {
      "text/plain": [
       "[<matplotlib.lines.Line2D at 0x7fc8808f2410>]"
      ]
     },
     "execution_count": 17,
     "metadata": {},
     "output_type": "execute_result"
    },
    {
     "data": {
      "image/png": "[encoded data removed]",
      "text/plain": [
       "<Figure size 432x288 with 1 Axes>"
      ]
     },
     "metadata": {
      "needs_background": "light"
     },
     "output_type": "display_data"
    }
   ],
   "source": [
    "def spkTimes2Calcium(spkTime,tauOn=10,ampFast=8,tauFast=60,ampSlow=3,tauSlow=800):\n",
    "    x=np.arange(0,1000,1)\n",
    "    y=(1-np.exp(-(x-spkTime)/tauOn))*(ampFast*(np.exp(-(x-spkTime)/tauFast)))+(ampSlow*np.exp(-(x-spkTime)/tauSlow))\n",
    "    y[x<spkTime]=0\n",
    "    return y\n",
    "\n",
    "y=spkTimes2Calcium(spkTime=6,tauOn=10,ampFast=8,tauFast=60,ampSlow=3,tauSlow=100)\n",
    "import matplotlib.pyplot as plt\n",
    "plt.plot(y)"
   ]
  }
 ],
 "metadata": {
  "kernelspec": {
   "display_name": "Python 3",
   "language": "python",
   "name": "python3"
  },
  "language_info": {
   "codemirror_mode": {
    "name": "ipython",
    "version": 3
   },
   "file_extension": ".py",
   "mimetype": "text/x-python",
   "name": "python",
   "nbconvert_exporter": "python",
   "pygments_lexer": "ipython3",
   "version": "3.7.7"
  }
 },
 "nbformat": 4,
 "nbformat_minor": 4
}
